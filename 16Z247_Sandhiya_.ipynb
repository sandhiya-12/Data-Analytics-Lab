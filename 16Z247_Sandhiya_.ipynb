{
  "nbformat": 4,
  "nbformat_minor": 0,
  "metadata": {
    "colab": {
      "name": "16Z247 Sandhiya .ipynb",
      "version": "0.3.2",
      "provenance": [],
      "collapsed_sections": []
    },
    "kernelspec": {
      "name": "python3",
      "display_name": "Python 3"
    }
  },
  "cells": [
    {
      "cell_type": "code",
      "metadata": {
        "id": "A-7ZlHHTS_8J",
        "colab_type": "code",
        "colab": {
          "base_uri": "https://localhost:8080/",
          "height": 909
        },
        "outputId": "a58183c9-f26b-4124-d5ea-d0c1ebdd6b34"
      },
      "source": [
        "import numpy\n",
        "import matplotlib.pyplot as plt\n",
        "import sys\n",
        "\n",
        "\n",
        "def bval(D, r, s):\n",
        "    n = D.shape[0]\n",
        "    total_r = numpy.sum(D[:,s] ** 2)\n",
        "    total_s = numpy.sum(D[r,:] ** 2)\n",
        "    total = numpy.sum(D ** 2)\n",
        "    val = (D[r,s] ** 2) - (float(total_r) / float(n)) - (float(total_s) / float(n)) + (float(total) / float(n * n))\n",
        "    return -0.5 * val\n",
        "\n",
        "\n",
        "def main():  \n",
        "    n = 4  \n",
        "    Y = numpy.array([[1,1], [2,1], [2,2],[3,2]], dtype=float)\n",
        "    print (Y)\n",
        "    D = numpy.zeros((n, n), dtype=float)\n",
        "    for i in range(0, n):\n",
        "        for j in range(0, n):\n",
        "            D[i, j] = numpy.linalg.norm(Y[i,:] - Y[j,:]) \n",
        "    B = numpy.zeros((n, n), dtype=complex)\n",
        "    for i in range(0, n):\n",
        "        for j in range(0, n):\n",
        "            B[i,j] = bval(D, i, j)\n",
        "    print( \"Distance Matrix D\")\n",
        "    print( D)\n",
        "    w, V = numpy.linalg.eig(D)   \n",
        "    idx = w.argsort()[::-1]\n",
        "    w = w[idx]\n",
        "    V = V[:,idx]\n",
        "    print (\"\\nEigenvalues of the distance matrix =\", w)\n",
        "    print (\"\\nB matix\")\n",
        "    print( B)\n",
        "    g, U = numpy.linalg.eig(B)\n",
        "    idx = g.argsort()[::-1]\n",
        "    g = g[idx]\n",
        "    U = U[:,idx]\n",
        "    print( \"Eigenvalues =\", g)\n",
        "    G = numpy.diag(numpy.sqrt(g))\n",
        "    X = numpy.dot(U, G)\n",
        "    print (\"\\nMatrix X\")\n",
        "    print( X)\n",
        "    error = 0.0\n",
        "    total = 0\n",
        "    for i in range(0, n):\n",
        "        for j in range(i+1, n):\n",
        "            error += (numpy.linalg.norm(X[i] - X[j]) - D[i, j]) ** 2\n",
        "            total += 1\n",
        "    RMSE = numpy.sqrt(error / float(total))\n",
        "    print (\"RMSE =\", RMSE)\n",
        "    if RMSE > 0:\n",
        "        #plt.scatter(X[:,0], X[:,1], c='b', s=40)\n",
        "        plt.scatter(Y[:,0], Y[:,1], c='r', s=40)\n",
        "        plt.show()\n",
        "        sys.exit(1)\n",
        "    pass\n",
        "\n",
        "if __name__ == '__main__':\n",
        "    main()\n",
        "\n"
      ],
      "execution_count": 2,
      "outputs": [
        {
          "output_type": "stream",
          "text": [
            "[[1. 1.]\n",
            " [2. 1.]\n",
            " [2. 2.]\n",
            " [3. 2.]]\n",
            "Distance Matrix D\n",
            "[[0.         1.         1.41421356 2.23606798]\n",
            " [1.         0.         1.         1.41421356]\n",
            " [1.41421356 1.         0.         1.        ]\n",
            " [2.23606798 1.41421356 1.         0.        ]]\n",
            "\n",
            "Eigenvalues of the distance matrix = [ 4.11010003 -0.87403205 -0.87403205 -2.36203593]\n",
            "\n",
            "B matix\n",
            "[[ 1.25+0.j  0.25+0.j -0.25+0.j -1.25+0.j]\n",
            " [ 0.25+0.j  0.25+0.j -0.25+0.j -0.25+0.j]\n",
            " [-0.25+0.j -0.25+0.j  0.25+0.j  0.25+0.j]\n",
            " [-1.25+0.j -0.25+0.j  0.25+0.j  1.25+0.j]]\n",
            "Eigenvalues = [ 2.61803399e+00+0.j  3.81966011e-01+0.j  5.16971318e-16+0.j\n",
            " -2.60247278e-16+0.j]\n",
            "\n",
            "Matrix X\n",
            "[[ 1.11351636e+00+0.00000000e+00j -1.00405708e-01+0.00000000e+00j\n",
            "   1.56983095e-08+0.00000000e+00j  0.00000000e+00+2.78957386e-10j]\n",
            " [ 2.62865556e-01+0.00000000e+00j  4.25325404e-01+0.00000000e+00j\n",
            "  -3.47112903e-09+0.00000000e+00j  0.00000000e+00+1.14037635e-08j]\n",
            " [-2.62865556e-01+0.00000000e+00j -4.25325404e-01+0.00000000e+00j\n",
            "  -3.47112903e-09+0.00000000e+00j  0.00000000e+00+1.14037635e-08j]\n",
            " [-1.11351636e+00+0.00000000e+00j  1.00405708e-01+0.00000000e+00j\n",
            "   1.56983095e-08+0.00000000e+00j  0.00000000e+00+2.78957386e-10j]]\n",
            "RMSE = 2.0770370905276122e-16\n"
          ],
          "name": "stdout"
        },
        {
          "output_type": "display_data",
          "data": {
            "image/png": "[encoded data removed]",
            "text/plain": [
              "<Figure size 432x288 with 1 Axes>"
            ]
          },
          "metadata": {
            "tags": []
          }
        },
        {
          "output_type": "error",
          "ename": "SystemExit",
          "evalue": "ignored",
          "traceback": [
            "An exception has occurred, use %tb to see the full traceback.\n",
            "\u001b[0;31mSystemExit\u001b[0m\u001b[0;31m:\u001b[0m 1\n"
          ]
        },
        {
          "output_type": "stream",
          "text": [
            "/usr/local/lib/python3.6/dist-packages/IPython/core/interactiveshell.py:2890: UserWarning: To exit: use 'exit', 'quit', or Ctrl-D.\n",
            "  warn(\"To exit: use 'exit', 'quit', or Ctrl-D.\", stacklevel=1)\n"
          ],
          "name": "stderr"
        }
      ]
    },
    {
      "cell_type": "code",
      "metadata": {
        "id": "4w4oFyr8hVgi",
        "colab_type": "code",
        "colab": {
          "base_uri": "https://localhost:8080/",
          "height": 286
        },
        "outputId": "038485b1-1fc1-4c74-90c6-4e1307104bba"
      },
      "source": [
        "import statistics as st\n",
        "import numpy as np\n",
        "x = [1,2,2,3]\n",
        "y = [1,1,2,2]\n",
        "meanX = st.mean(x)\n",
        "meanY = st.mean(y)\n",
        "x = np.array(x)\n",
        "y = np.array(y)\n",
        "meanSubX = x - meanX\n",
        "meanSubY = y - meanY\n",
        "plt.scatter(meanSubX, meanSubY)\n",
        "print(meanY)"
      ],
      "execution_count": 8,
      "outputs": [
        {
          "output_type": "stream",
          "text": [
            "1.5\n"
          ],
          "name": "stdout"
        },
        {
          "output_type": "display_data",
          "data": {
            "image/png": "[encoded data removed]",
            "text/plain": [
              "<Figure size 432x288 with 1 Axes>"
            ]
          },
          "metadata": {
            "tags": []
          }
        }
      ]
    },
    {
      "cell_type": "code",
      "metadata": {
        "id": "Fy-Q4SgXk4td",
        "colab_type": "code",
        "colab": {
          "base_uri": "https://localhost:8080/",
          "height": 119
        },
        "outputId": "4bd959e0-7d97-4f9d-c30f-02961061ec0a"
      },
      "source": [
        "import math\n",
        "trans = np.array([meanSubX,meanSubY])\n",
        "matrix = trans.transpose()\n",
        "multiply = np.dot(matrix, trans)\n",
        "eigenVal, eigenVect = np.linalg.eig(multiply)\n",
        "print(eigenVal)\n",
        "print(eigenVect)\n",
        "largEigenVect = eigenVect[:,0]\n",
        "largEigenVal = math.sqrt(eigenVal[0])\n",
        "proj= largEigenVal * largEigenVect\n",
        "proj"
      ],
      "execution_count": 10,
      "outputs": [
        {
          "output_type": "stream",
          "text": [
            "[ 2.61803399e+00  3.81966011e-01 -9.45799730e-17 -2.55373581e-17]\n",
            "[[-0.68819096  0.16245985  0.67618941  0.02708022]\n",
            " [-0.16245985 -0.68819096  0.20680399  0.70658804]\n",
            " [ 0.16245985  0.68819096  0.20680399  0.70658804]\n",
            " [ 0.68819096 -0.16245985  0.67618941  0.02708022]]\n"
          ],
          "name": "stdout"
        },
        {
          "output_type": "execute_result",
          "data": {
            "text/plain": [
              "array([-1.11351636, -0.26286556,  0.26286556,  1.11351636])"
            ]
          },
          "metadata": {
            "tags": []
          },
          "execution_count": 10
        }
      ]
    }
  ]
}