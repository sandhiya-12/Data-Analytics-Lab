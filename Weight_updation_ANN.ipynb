{
  "nbformat": 4,
  "nbformat_minor": 0,
  "metadata": {
    "colab": {
      "name": "Weight_updation_ANN.ipynb",
      "version": "0.3.2",
      "provenance": []
    },
    "kernelspec": {
      "name": "python3",
      "display_name": "Python 3"
    }
  },
  "cells": [
    {
      "cell_type": "code",
      "metadata": {
        "id": "sYXtRlsKUsYA",
        "colab_type": "code",
        "colab": {
          "base_uri": "https://localhost:8080/",
          "height": 34
        },
        "outputId": "0d5e110a-c844-4ff3-b843-79931317be52"
      },
      "source": [
        "from keras.models import Sequential\n",
        "from keras.layers import Dense\n",
        "import numpy as np"
      ],
      "execution_count": 1,
      "outputs": [
        {
          "output_type": "stream",
          "text": [
            "Using TensorFlow backend.\n"
          ],
          "name": "stderr"
        }
      ]
    },
    {
      "cell_type": "code",
      "metadata": {
        "id": "u72bbk2fUvHM",
        "colab_type": "code",
        "colab": {}
      },
      "source": [
        "model = Sequential()"
      ],
      "execution_count": 0,
      "outputs": []
    },
    {
      "cell_type": "code",
      "metadata": {
        "id": "olwD0XFzU1Ux",
        "colab_type": "code",
        "colab": {}
      },
      "source": [
        "model.add(Dense(2,activation=\"sigmoid\",input_dim=3))\n",
        "model.add(Dense(3,activation=\"sigmoid\"))\n",
        "model.add(Dense(2))"
      ],
      "execution_count": 0,
      "outputs": []
    },
    {
      "cell_type": "code",
      "metadata": {
        "id": "C-fUdZpkU2pY",
        "colab_type": "code",
        "colab": {
          "base_uri": "https://localhost:8080/",
          "height": 85
        },
        "outputId": "56640ec8-300a-482f-aa3e-96f19847cbcb"
      },
      "source": [
        "model.layers[0].get_weights()"
      ],
      "execution_count": 9,
      "outputs": [
        {
          "output_type": "execute_result",
          "data": {
            "text/plain": [
              "[array([[ 0.00395048,  0.68499696],\n",
              "        [ 0.25594783,  0.38824105],\n",
              "        [ 0.09442759, -0.07780886]], dtype=float32),\n",
              " array([0., 0.], dtype=float32)]"
            ]
          },
          "metadata": {
            "tags": []
          },
          "execution_count": 9
        }
      ]
    },
    {
      "cell_type": "code",
      "metadata": {
        "id": "mWjLy3JuVB2g",
        "colab_type": "code",
        "colab": {}
      },
      "source": [
        "w12=np.array([[0.2,-0.3],[0.4,0.1],[-0.5,0.2]])\n",
        "b1=np.array([0.4,0.2])\n",
        "weights1=[w12,b1]\n",
        "weights1\n",
        "\n",
        "model.layers[0].set_weights(weights1)"
      ],
      "execution_count": 0,
      "outputs": []
    },
    {
      "cell_type": "code",
      "metadata": {
        "id": "gaGIlyLVVF6h",
        "colab_type": "code",
        "colab": {
          "base_uri": "https://localhost:8080/",
          "height": 68
        },
        "outputId": "a98f5c20-434e-4428-8c03-43a5022ac8bf"
      },
      "source": [
        "model.layers[1].get_weights()"
      ],
      "execution_count": 11,
      "outputs": [
        {
          "output_type": "execute_result",
          "data": {
            "text/plain": [
              "[array([[ 0.5479046 ,  0.7115289 ,  0.5353215 ],\n",
              "        [-0.2204678 , -0.9793549 , -0.03045785]], dtype=float32),\n",
              " array([0., 0., 0.], dtype=float32)]"
            ]
          },
          "metadata": {
            "tags": []
          },
          "execution_count": 11
        }
      ]
    },
    {
      "cell_type": "code",
      "metadata": {
        "id": "PBF6DrptVJyJ",
        "colab_type": "code",
        "colab": {}
      },
      "source": [
        "w23=np.array([[-0.3,0.2,0.6],[-0.2,-0.1,-0.2]])\n",
        "b2=np.array([0.1,0.1,0.2])\n",
        "weights2=[w23,b2]\n",
        "weights2\n",
        "\n",
        "model.layers[1].set_weights(weights2)"
      ],
      "execution_count": 0,
      "outputs": []
    },
    {
      "cell_type": "code",
      "metadata": {
        "id": "6JgeaCEpVM3I",
        "colab_type": "code",
        "colab": {
          "base_uri": "https://localhost:8080/",
          "height": 85
        },
        "outputId": "aaabe49f-61af-4207-fde7-3f0b26bff3ea"
      },
      "source": [
        "model.layers[2].get_weights()"
      ],
      "execution_count": 13,
      "outputs": [
        {
          "output_type": "execute_result",
          "data": {
            "text/plain": [
              "[array([[ 1.0785773 ,  0.6158184 ],\n",
              "        [ 0.7821288 ,  1.0669653 ],\n",
              "        [-0.59640443, -0.6418535 ]], dtype=float32),\n",
              " array([0., 0.], dtype=float32)]"
            ]
          },
          "metadata": {
            "tags": []
          },
          "execution_count": 13
        }
      ]
    },
    {
      "cell_type": "code",
      "metadata": {
        "id": "bSGJg9wuVPgu",
        "colab_type": "code",
        "colab": {}
      },
      "source": [
        "w34=np.array([[0.3,0.2],[-0.5,0.5],[-0.7,0.2]])\n",
        "b4=np.array([0.1,0.2])\n",
        "weights3=[w34,b4]\n",
        "weights3\n",
        "\n",
        "model.layers[2].set_weights(weights3)"
      ],
      "execution_count": 0,
      "outputs": []
    },
    {
      "cell_type": "code",
      "metadata": {
        "id": "N6JlsoaDVSpl",
        "colab_type": "code",
        "colab": {}
      },
      "source": [
        "from keras import optimizers\n",
        "sgd = optimizers.SGD(lr=0.9)\n",
        "model.compile(loss='mean_squared_error', optimizer=sgd,metrics=['accuracy'])"
      ],
      "execution_count": 0,
      "outputs": []
    },
    {
      "cell_type": "code",
      "metadata": {
        "id": "GTGCz0TSVamJ",
        "colab_type": "code",
        "colab": {
          "base_uri": "https://localhost:8080/",
          "height": 68
        },
        "outputId": "b9963b2d-238d-4318-9ba4-a6bbd3137adf"
      },
      "source": [
        "x=np.array([[1,0,1]])\n",
        "y=np.array([[1,0]])\n",
        "model.fit(x,y,epochs=1)\n",
        "\n",
        "#from keras.callbacks import Callback\n",
        "#cbk = CollectWeightCallback(layer_index=-1)\n",
        "#model.fit(x, y, epochs=1, callbacks=[cbk])"
      ],
      "execution_count": 17,
      "outputs": [
        {
          "output_type": "stream",
          "text": [
            "Epoch 1/1\n",
            "1/1 [==============================] - 0s 319ms/step - loss: 1.2860 - acc: 0.0000e+00\n"
          ],
          "name": "stdout"
        },
        {
          "output_type": "execute_result",
          "data": {
            "text/plain": [
              "<keras.callbacks.History at 0x7fb82500e9b0>"
            ]
          },
          "metadata": {
            "tags": []
          },
          "execution_count": 17
        }
      ]
    },
    {
      "cell_type": "code",
      "metadata": {
        "id": "Rz7KM1TRVesx",
        "colab_type": "code",
        "colab": {
          "base_uri": "https://localhost:8080/",
          "height": 306
        },
        "outputId": "0085f8cb-a65b-4537-a568-b3788348404f"
      },
      "source": [
        "for i in range(3):\n",
        "  print(model.layers[i].get_weights())\n",
        "  \n",
        "  print(\"\\n\\n\")"
      ],
      "execution_count": 19,
      "outputs": [
        {
          "output_type": "stream",
          "text": [
            "[array([[ 0.14587797, -0.28498203],\n",
            "       [ 0.4       ,  0.1       ],\n",
            "       [-0.55412203,  0.21501799]], dtype=float32), array([0.34587798, 0.21501799], dtype=float32)]\n",
            "\n",
            "\n",
            "\n",
            "[array([[-0.2648723 ,  0.0747495 ,  0.46942055],\n",
            "       [-0.1648723 , -0.22525051, -0.3305795 ]], dtype=float32), array([ 0.16691256, -0.13858187, -0.04873271], dtype=float32)]\n",
            "\n",
            "\n",
            "\n",
            "[array([[ 0.9004086 , -0.08166339],\n",
            "       [ 0.2030983 ,  0.17016286],\n",
            "       [ 0.08546948, -0.16847907]], dtype=float32), array([ 1.4067509 , -0.41302234], dtype=float32)]\n",
            "\n",
            "\n",
            "\n"
          ],
          "name": "stdout"
        }
      ]
    },
    {
      "cell_type": "code",
      "metadata": {
        "id": "gieKwwbyVpxQ",
        "colab_type": "code",
        "colab": {}
      },
      "source": [
        "wupdate1=[x1 - x2 for (x1, x2) in zip(weights1, model.layers[0].get_weights())]"
      ],
      "execution_count": 0,
      "outputs": []
    },
    {
      "cell_type": "code",
      "metadata": {
        "id": "EiQudN5_VwKO",
        "colab_type": "code",
        "colab": {
          "base_uri": "https://localhost:8080/",
          "height": 85
        },
        "outputId": "6c0ff2da-acf8-4f4b-8d0c-0baf7ec318b1"
      },
      "source": [
        "wupdate1"
      ],
      "execution_count": 21,
      "outputs": [
        {
          "output_type": "execute_result",
          "data": {
            "text/plain": [
              "[array([[ 5.41220278e-02, -1.50179744e-02],\n",
              "        [-5.96046446e-09, -1.49011611e-09],\n",
              "        [ 5.41220307e-02, -1.50179893e-02]]),\n",
              " array([ 0.05412202, -0.01501799])]"
            ]
          },
          "metadata": {
            "tags": []
          },
          "execution_count": 21
        }
      ]
    },
    {
      "cell_type": "code",
      "metadata": {
        "id": "mAoQHwrLVxcp",
        "colab_type": "code",
        "colab": {
          "base_uri": "https://localhost:8080/",
          "height": 68
        },
        "outputId": "29028f38-076e-479f-e5b8-3dfe583781e0"
      },
      "source": [
        "wupdate2=[x1 - x2 for (x1, x2) in zip(weights2, model.layers[1].get_weights())]\n",
        "wupdate2"
      ],
      "execution_count": 22,
      "outputs": [
        {
          "output_type": "execute_result",
          "data": {
            "text/plain": [
              "[array([[-0.03512769,  0.1252505 ,  0.13057945],\n",
              "        [-0.0351277 ,  0.12525051,  0.13057949]]),\n",
              " array([-0.06691256,  0.23858187,  0.24873271])]"
            ]
          },
          "metadata": {
            "tags": []
          },
          "execution_count": 22
        }
      ]
    },
    {
      "cell_type": "code",
      "metadata": {
        "id": "AyoeJk1EV3Nn",
        "colab_type": "code",
        "colab": {
          "base_uri": "https://localhost:8080/",
          "height": 68
        },
        "outputId": "77b62c25-651e-4739-ad45-dafd29eb53a8"
      },
      "source": [
        "wupdate3=[x1 - x2 for (x1, x2) in zip(weights3, model.layers[2].get_weights())]\n",
        "wupdate3"
      ],
      "execution_count": 23,
      "outputs": [
        {
          "output_type": "execute_result",
          "data": {
            "text/plain": [
              "[array([[-0.60040863,  0.28166339],\n",
              "        [-0.7030983 ,  0.32983714],\n",
              "        [-0.78546948,  0.36847907]]), array([-1.30675092,  0.61302234])]"
            ]
          },
          "metadata": {
            "tags": []
          },
          "execution_count": 23
        }
      ]
    }
  ]
}