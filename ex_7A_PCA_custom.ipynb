{
  "nbformat": 4,
  "nbformat_minor": 0,
  "metadata": {
    "colab": {
      "name": "ex-7A PCA_custom.ipynb",
      "version": "0.3.2",
      "provenance": []
    },
    "kernelspec": {
      "name": "python3",
      "display_name": "Python 3"
    }
  },
  "cells": [
    {
      "cell_type": "code",
      "metadata": {
        "id": "4lbylR78KWdo",
        "colab_type": "code",
        "colab": {
          "base_uri": "https://localhost:8080/",
          "height": 204
        },
        "outputId": "793e44d4-9d1e-48e3-84ac-2ca3abaf2aec"
      },
      "source": [
        "import pandas as pd\n",
        "import matplotlib.pyplot as plt\n",
        "df = pd.read_csv(\n",
        "    filepath_or_buffer='https://archive.ics.uci.edu/ml/machine-learning-databases/iris/iris.data',\n",
        "    header=None,\n",
        "    sep=',')\n",
        "\n",
        "df.columns=['sepal_len', 'sepal_wid', 'petal_len', 'petal_wid', 'class']\n",
        "df.dropna(how=\"all\", inplace=True) # drops the empty line at file-end\n",
        "\n",
        "df.tail()"
      ],
      "execution_count": 1,
      "outputs": [
        {
          "output_type": "execute_result",
          "data": {
            "text/html": [
              "<div>\n",
              "<style scoped>\n",
              "    .dataframe tbody tr th:only-of-type {\n",
              "        vertical-align: middle;\n",
              "    }\n",
              "\n",
              "    .dataframe tbody tr th {\n",
              "        vertical-align: top;\n",
              "    }\n",
              "\n",
              "    .dataframe thead th {\n",
              "        text-align: right;\n",
              "    }\n",
              "</style>\n",
              "<table border=\"1\" class=\"dataframe\">\n",
              "  <thead>\n",
              "    <tr style=\"text-align: right;\">\n",
              "      <th></th>\n",
              "      <th>sepal_len</th>\n",
              "      <th>sepal_wid</th>\n",
              "      <th>petal_len</th>\n",
              "      <th>petal_wid</th>\n",
              "      <th>class</th>\n",
              "    </tr>\n",
              "  </thead>\n",
              "  <tbody>\n",
              "    <tr>\n",
              "      <th>145</th>\n",
              "      <td>6.7</td>\n",
              "      <td>3.0</td>\n",
              "      <td>5.2</td>\n",
              "      <td>2.3</td>\n",
              "      <td>Iris-virginica</td>\n",
              "    </tr>\n",
              "    <tr>\n",
              "      <th>146</th>\n",
              "      <td>6.3</td>\n",
              "      <td>2.5</td>\n",
              "      <td>5.0</td>\n",
              "      <td>1.9</td>\n",
              "      <td>Iris-virginica</td>\n",
              "    </tr>\n",
              "    <tr>\n",
              "      <th>147</th>\n",
              "      <td>6.5</td>\n",
              "      <td>3.0</td>\n",
              "      <td>5.2</td>\n",
              "      <td>2.0</td>\n",
              "      <td>Iris-virginica</td>\n",
              "    </tr>\n",
              "    <tr>\n",
              "      <th>148</th>\n",
              "      <td>6.2</td>\n",
              "      <td>3.4</td>\n",
              "      <td>5.4</td>\n",
              "      <td>2.3</td>\n",
              "      <td>Iris-virginica</td>\n",
              "    </tr>\n",
              "    <tr>\n",
              "      <th>149</th>\n",
              "      <td>5.9</td>\n",
              "      <td>3.0</td>\n",
              "      <td>5.1</td>\n",
              "      <td>1.8</td>\n",
              "      <td>Iris-virginica</td>\n",
              "    </tr>\n",
              "  </tbody>\n",
              "</table>\n",
              "</div>"
            ],
            "text/plain": [
              "     sepal_len  sepal_wid  petal_len  petal_wid           class\n",
              "145        6.7        3.0        5.2        2.3  Iris-virginica\n",
              "146        6.3        2.5        5.0        1.9  Iris-virginica\n",
              "147        6.5        3.0        5.2        2.0  Iris-virginica\n",
              "148        6.2        3.4        5.4        2.3  Iris-virginica\n",
              "149        5.9        3.0        5.1        1.8  Iris-virginica"
            ]
          },
          "metadata": {
            "tags": []
          },
          "execution_count": 1
        }
      ]
    },
    {
      "cell_type": "code",
      "metadata": {
        "id": "i-vcvsuyQarV",
        "colab_type": "code",
        "colab": {
          "base_uri": "https://localhost:8080/",
          "height": 289
        },
        "outputId": "e76d966f-fef4-4117-e05c-fba4110b2ae4"
      },
      "source": [
        "X = df.ix[:,0:4].values\n",
        "y = df.ix[:,4].values"
      ],
      "execution_count": 2,
      "outputs": [
        {
          "output_type": "stream",
          "text": [
            "/usr/local/lib/python3.6/dist-packages/ipykernel_launcher.py:1: DeprecationWarning: \n",
            ".ix is deprecated. Please use\n",
            ".loc for label based indexing or\n",
            ".iloc for positional indexing\n",
            "\n",
            "See the documentation here:\n",
            "http://pandas.pydata.org/pandas-docs/stable/indexing.html#ix-indexer-is-deprecated\n",
            "  \"\"\"Entry point for launching an IPython kernel.\n",
            "/usr/local/lib/python3.6/dist-packages/ipykernel_launcher.py:2: DeprecationWarning: \n",
            ".ix is deprecated. Please use\n",
            ".loc for label based indexing or\n",
            ".iloc for positional indexing\n",
            "\n",
            "See the documentation here:\n",
            "http://pandas.pydata.org/pandas-docs/stable/indexing.html#ix-indexer-is-deprecated\n",
            "  \n"
          ],
          "name": "stderr"
        }
      ]
    },
    {
      "cell_type": "code",
      "metadata": {
        "id": "rQzB2NdGQgXX",
        "colab_type": "code",
        "colab": {
          "base_uri": "https://localhost:8080/",
          "height": 297
        },
        "outputId": "8ca7f81e-da95-484c-c705-d80f75afb6da"
      },
      "source": [
        "with plt.style.context('seaborn-whitegrid'):\n",
        "    plt.figure(figsize=(6, 4))\n",
        "    for lab, col in zip(('Iris-setosa', 'Iris-versicolor', 'Iris-virginica'),\n",
        "                        ('blue', 'red', 'green')):\n",
        "        plt.scatter(X[y==lab, 0],\n",
        "                    X[y==lab, 1],\n",
        "                    label=lab,\n",
        "                    c=col)\n",
        "    plt.xlabel('Sepal Length')\n",
        "    plt.ylabel('Sepal Width')\n",
        "    plt.legend(loc='lower center')\n",
        "    plt.tight_layout()\n",
        "    plt.show()"
      ],
      "execution_count": 3,
      "outputs": [
        {
          "output_type": "display_data",
          "data": {
            "image/png": "[encoded data removed]",
            "text/plain": [
              "<Figure size 432x288 with 1 Axes>"
            ]
          },
          "metadata": {
            "tags": []
          }
        }
      ]
    },
    {
      "cell_type": "code",
      "metadata": {
        "id": "3BQwDca_QtBp",
        "colab_type": "code",
        "colab": {}
      },
      "source": [
        "from sklearn.preprocessing import StandardScaler\n",
        "X_std = StandardScaler().fit_transform(X)"
      ],
      "execution_count": 0,
      "outputs": []
    },
    {
      "cell_type": "code",
      "metadata": {
        "id": "UDW90vPPQzuB",
        "colab_type": "code",
        "colab": {}
      },
      "source": [
        "import numpy as np\n",
        "mean_vec = np.mean(X_std, axis=0)\n",
        "cov_mat = (X_std - mean_vec).T.dot((X_std - mean_vec)) / (X_std.shape[0]-1)\n"
      ],
      "execution_count": 0,
      "outputs": []
    },
    {
      "cell_type": "code",
      "metadata": {
        "id": "Hh_RPsfyQ3Zg",
        "colab_type": "code",
        "colab": {
          "base_uri": "https://localhost:8080/",
          "height": 153
        },
        "outputId": "adb4bee5-6d89-4ff4-cab6-27fd2ead4349"
      },
      "source": [
        "cov_mat = np.cov(X_std.T)\n",
        "\n",
        "eig_vals, eig_vecs = np.linalg.eig(cov_mat)\n",
        "\n",
        "print('Eigenvectors \\n%s' %eig_vecs)\n",
        "print('\\nEigenvalues \\n%s' %eig_vals)"
      ],
      "execution_count": 6,
      "outputs": [
        {
          "output_type": "stream",
          "text": [
            "Eigenvectors \n",
            "[[ 0.52237162 -0.37231836 -0.72101681  0.26199559]\n",
            " [-0.26335492 -0.92555649  0.24203288 -0.12413481]\n",
            " [ 0.58125401 -0.02109478  0.14089226 -0.80115427]\n",
            " [ 0.56561105 -0.06541577  0.6338014   0.52354627]]\n",
            "\n",
            "Eigenvalues \n",
            "[2.93035378 0.92740362 0.14834223 0.02074601]\n"
          ],
          "name": "stdout"
        }
      ]
    },
    {
      "cell_type": "code",
      "metadata": {
        "id": "3yJFqjLlQ7Xi",
        "colab_type": "code",
        "colab": {}
      },
      "source": [
        "eig_pairs = [(np.abs(eig_vals[i]), eig_vecs[:,i]) for i in range(len(eig_vals))]\n",
        "\n",
        "eig_pairs.sort(key=lambda x: x[0], reverse=True)"
      ],
      "execution_count": 0,
      "outputs": []
    },
    {
      "cell_type": "code",
      "metadata": {
        "id": "gR1GbK9SQ-1z",
        "colab_type": "code",
        "colab": {
          "base_uri": "https://localhost:8080/",
          "height": 102
        },
        "outputId": "92d2e0fc-353a-4f94-c3dc-427b710ef3f3"
      },
      "source": [
        "matrix_w = np.hstack((eig_pairs[0][1].reshape(4,1),\n",
        "                      eig_pairs[1][1].reshape(4,1)))\n",
        "\n",
        "print('Matrix W:\\n', matrix_w)"
      ],
      "execution_count": 9,
      "outputs": [
        {
          "output_type": "stream",
          "text": [
            "Matrix W:\n",
            " [[ 0.52237162 -0.37231836]\n",
            " [-0.26335492 -0.92555649]\n",
            " [ 0.58125401 -0.02109478]\n",
            " [ 0.56561105 -0.06541577]]\n"
          ],
          "name": "stdout"
        }
      ]
    },
    {
      "cell_type": "code",
      "metadata": {
        "id": "41EEFBKJRCQ-",
        "colab_type": "code",
        "colab": {
          "base_uri": "https://localhost:8080/",
          "height": 297
        },
        "outputId": "ecb485f5-5030-4d35-dd30-abfd260dd8e0"
      },
      "source": [
        "Y = X_std.dot(matrix_w)\n",
        "with plt.style.context('seaborn-whitegrid'):\n",
        "    plt.figure(figsize=(6, 4))\n",
        "    for lab, col in zip(('Iris-setosa', 'Iris-versicolor', 'Iris-virginica'),\n",
        "                        ('blue', 'red', 'green')):\n",
        "        plt.scatter(Y[y==lab, 0],\n",
        "                    Y[y==lab, 1],\n",
        "                    label=lab,\n",
        "                    c=col)\n",
        "    plt.xlabel('Principal Component 1')\n",
        "    plt.ylabel('Principal Component 2')\n",
        "    plt.legend(loc='lower center')\n",
        "    plt.tight_layout()\n",
        "    plt.show()"
      ],
      "execution_count": 10,
      "outputs": [
        {
          "output_type": "display_data",
          "data": {
            "image/png": "[encoded data removed]",
            "text/plain": [
              "<Figure size 432x288 with 1 Axes>"
            ]
          },
          "metadata": {
            "tags": []
          }
        }
      ]
    },
    {
      "cell_type": "code",
      "metadata": {
        "id": "fwy1NhU3RHwI",
        "colab_type": "code",
        "colab": {
          "base_uri": "https://localhost:8080/",
          "height": 34
        },
        "outputId": "4c579ce1-a9d3-435d-dafe-7bba47a18dcf"
      },
      "source": [
        "#print(Y.dot(matrix_w.T))\n",
        "rev=Y.dot(matrix_w.T)\n",
        "rev.reshape(150,4)\n",
        "rev.shape"
      ],
      "execution_count": 11,
      "outputs": [
        {
          "output_type": "execute_result",
          "data": {
            "text/plain": [
              "(150, 4)"
            ]
          },
          "metadata": {
            "tags": []
          },
          "execution_count": 11
        }
      ]
    },
    {
      "cell_type": "code",
      "metadata": {
        "id": "x5C3LTMmRMXV",
        "colab_type": "code",
        "colab": {
          "base_uri": "https://localhost:8080/",
          "height": 1000
        },
        "outputId": "b29f0de2-6371-4bdf-fb5a-106b1af2ce79"
      },
      "source": [
        "rev"
      ],
      "execution_count": 12,
      "outputs": [
        {
          "output_type": "execute_result",
          "data": {
            "text/plain": [
              "array([[-9.94649483e-01,  1.06443573e+00, -1.30560624e+00,\n",
              "        -1.24776881e+00],\n",
              "       [-1.33390869e+00, -5.71436925e-02, -1.22656880e+00,\n",
              "        -1.22297912e+00],\n",
              "       [-1.35552506e+00,  3.28842647e-01, -1.38309889e+00,\n",
              "        -1.36017238e+00],\n",
              "       [-1.41786717e+00,  7.42863254e-02, -1.35146108e+00,\n",
              "        -1.34091750e+00],\n",
              "       [-9.96601277e-01,  1.25363164e+00, -1.37425242e+00,\n",
              "        -1.30697852e+00],\n",
              "       [-5.16206153e-01,  1.95078853e+00, -1.17147437e+00,\n",
              "        -1.07178148e+00],\n",
              "       [-1.24980914e+00,  7.13102071e-01, -1.42000663e+00,\n",
              "        -1.37844378e+00],\n",
              "       [-1.07470438e+00,  8.17473916e-01, -1.29320617e+00,\n",
              "        -1.24728778e+00],\n",
              "       [-1.63111533e+00, -3.96853762e-01, -1.38437415e+00,\n",
              "        -1.39627698e+00],\n",
              "       [-1.31033493e+00,  1.61166989e-01, -1.28164028e+00,\n",
              "        -1.26728661e+00],\n",
              "       [-7.31541585e-01,  1.56066151e+00, -1.23495125e+00,\n",
              "        -1.15365807e+00],\n",
              "       [-1.15671107e+00,  7.59708020e-01, -1.34945228e+00,\n",
              "        -1.30601645e+00],\n",
              "       [-1.42581541e+00, -7.06057994e-02, -1.30771568e+00,\n",
              "        -1.30435327e+00],\n",
              "       [-1.72825247e+00, -1.73250730e-01, -1.55413850e+00,\n",
              "        -1.55443112e+00],\n",
              "       [-4.41517161e-01,  2.32663263e+00, -1.23440955e+00,\n",
              "        -1.11634990e+00],\n",
              "       [-1.62512789e-01,  3.11264266e+00, -1.25124536e+00,\n",
              "        -1.09536761e+00],\n",
              "       [-5.87057310e-01,  1.98116657e+00, -1.24842532e+00,\n",
              "        -1.14687687e+00],\n",
              "       [-9.52602500e-01,  1.05281214e+00, -1.26220128e+00,\n",
              "        -1.20514592e+00],\n",
              "       [-4.56581861e-01,  1.82338758e+00, -1.07074931e+00,\n",
              "        -9.77692142e-01],\n",
              "       [-7.91165877e-01,  1.68806245e+00, -1.33567631e+00,\n",
              "        -1.24774740e+00],\n",
              "       [-8.39839841e-01,  9.02627665e-01, -1.10376301e+00,\n",
              "        -1.05473504e+00],\n",
              "       [-7.97026839e-01,  1.46215726e+00, -1.26136709e+00,\n",
              "        -1.18466607e+00],\n",
              "       [-1.26689139e+00,  1.18366691e+00, -1.60217105e+00,\n",
              "        -1.53707896e+00],\n",
              "       [-9.11186058e-01,  5.78218223e-01, -1.05586963e+00,\n",
              "        -1.02266171e+00],\n",
              "       [-1.10357270e+00,  7.36924487e-01, -1.29173907e+00,\n",
              "        -1.24969491e+00],\n",
              "       [-1.24862337e+00, -4.72470219e-02, -1.15035140e+00,\n",
              "        -1.14668016e+00],\n",
              "       [-9.72897624e-01,  7.86632234e-01, -1.18715851e+00,\n",
              "        -1.14326815e+00],\n",
              "       [-9.27076954e-01,  1.08192691e+00, -1.24862658e+00,\n",
              "        -1.19024371e+00],\n",
              "       [-9.92697688e-01,  8.75239812e-01, -1.23696006e+00,\n",
              "        -1.18855911e+00],\n",
              "       [-1.30238670e+00,  3.06059114e-01, -1.32538568e+00,\n",
              "        -1.30385083e+00],\n",
              "       [-1.30043490e+00,  1.16863200e-01, -1.25673950e+00,\n",
              "        -1.24464113e+00],\n",
              "       [-7.91171455e-01,  8.94569515e-01, -1.05542856e+00,\n",
              "        -1.00703696e+00],\n",
              "       [-6.81676267e-01,  2.37924013e+00, -1.47745709e+00,\n",
              "        -1.35561725e+00],\n",
              "       [-4.59854911e-01,  2.66474974e+00, -1.37096835e+00,\n",
              "        -1.23597287e+00],\n",
              "       [-1.31033493e+00,  1.61166989e-01, -1.28164028e+00,\n",
              "        -1.26728661e+00],\n",
              "       [-1.22365864e+00,  4.11694236e-01, -1.28911086e+00,\n",
              "        -1.26269245e+00],\n",
              "       [-8.12923314e-01,  1.17237301e+00, -1.17387629e+00,\n",
              "        -1.11153762e+00],\n",
              "       [-1.31033493e+00,  1.61166989e-01, -1.28164028e+00,\n",
              "        -1.26728661e+00],\n",
              "       [-1.60092017e+00, -1.74977645e-01, -1.43451614e+00,\n",
              "        -1.43550927e+00],\n",
              "       [-1.02484464e+00,  8.42559609e-01, -1.25546425e+00,\n",
              "        -1.20853652e+00],\n",
              "       [-1.02017503e+00,  1.03532096e+00, -1.31918094e+00,\n",
              "        -1.26267103e+00],\n",
              "       [-1.84436906e+00, -1.66148679e+00, -1.13703946e+00,\n",
              "        -1.21092602e+00],\n",
              "       [-1.50510428e+00,  2.53585569e-01, -1.49632466e+00,\n",
              "        -1.47642616e+00],\n",
              "       [-8.40895714e-01,  9.77666669e-01, -1.13125284e+00,\n",
              "        -1.07848082e+00],\n",
              "       [-6.78267737e-01,  1.64606082e+00, -1.21532041e+00,\n",
              "        -1.13002912e+00],\n",
              "       [-1.34172144e+00, -9.38529709e-02, -1.22090576e+00,\n",
              "        -1.21910749e+00],\n",
              "       [-8.15500070e-01,  1.69209152e+00, -1.35984354e+00,\n",
              "        -1.27159644e+00],\n",
              "       [-1.38767201e+00,  2.96162443e-01, -1.40160308e+00,\n",
              "        -1.38014979e+00],\n",
              "       [-7.81401325e-01,  1.53557581e+00, -1.27269317e+00,\n",
              "        -1.19240933e+00],\n",
              "       [-1.14032511e+00,  6.10786820e-01, -1.28153965e+00,\n",
              "        -1.24560319e+00],\n",
              "       [ 8.98047567e-01,  5.08117174e-01,  6.59907897e-01,\n",
              "         6.80892173e-01],\n",
              "       [ 6.05510534e-01,  3.61168455e-01,  4.38385855e-01,\n",
              "         4.53459803e-01],\n",
              "       [ 8.77752443e-01,  2.41937267e-01,  7.34950668e-01,\n",
              "         7.42769945e-01],\n",
              "       [-4.47056536e-01, -1.73191751e+00,  1.93848268e-01,\n",
              "         1.09709415e-01],\n",
              "       [ 4.81451283e-01, -4.78466790e-01,  6.18982543e-01,\n",
              "         5.92818683e-01],\n",
              "       [-1.92333862e-02, -6.48310649e-01,  2.10999507e-01,\n",
              "         1.78788970e-01],\n",
              "       [ 6.81031300e-01,  5.23551761e-01,  4.51620110e-01,\n",
              "         4.74420689e-01],\n",
              "       [-9.48437500e-01, -1.58011773e+00, -3.28386563e-01,\n",
              "        -4.02542206e-01],\n",
              "       [ 4.95125003e-01, -2.15852319e-01,  5.39010283e-01,\n",
              "         5.25865720e-01],\n",
              "       [-3.80669782e-01, -9.54077239e-01, -1.88273020e-02,\n",
              "        -6.45290953e-02],\n",
              "       [-1.05478396e+00, -2.42734748e+00, -1.28552138e-01,\n",
              "        -2.44409476e-01],\n",
              "       [ 2.07257579e-01, -1.70039689e-01,  2.53771551e-01,\n",
              "         2.44298838e-01],\n",
              "       [-3.71806730e-01, -1.78589990e+00,  2.83247249e-01,\n",
              "         1.96055489e-01],\n",
              "       [ 3.05586077e-01, -3.60498879e-01,  4.12943372e-01,\n",
              "         3.93506158e-01],\n",
              "       [-1.80600285e-01, -3.90764136e-01, -3.07863004e-02,\n",
              "        -4.93853773e-02],\n",
              "       [ 6.47422035e-01,  2.41362023e-01,  5.19873180e-01,\n",
              "         5.28775287e-01],\n",
              "       [ 1.10816729e-01, -2.68080300e-01,  1.98258994e-01,\n",
              "         1.84366605e-01],\n",
              "       [-2.14273696e-01, -7.72257762e-01,  7.24798539e-02,\n",
              "         3.50346043e-02],\n",
              "       [ 2.67116064e-02, -1.83181900e+00,  6.71944586e-01,\n",
              "         5.80541708e-01],\n",
              "       [-4.03187661e-01, -1.24742692e+00,  6.37340143e-02,\n",
              "         3.52416052e-03],\n",
              "       [ 5.35491151e-01,  1.78085702e-01,  4.37604341e-01,\n",
              "         4.43893720e-01],\n",
              "       [ 9.16416249e-02, -5.09995323e-01,  2.65778513e-01,\n",
              "         2.39924765e-01],\n",
              "       [ 2.91146338e-01, -1.19426653e+00,  6.93924681e-01,\n",
              "         6.33013038e-01],\n",
              "       [ 1.73584168e-01, -5.51533314e-01,  3.57037705e-01,\n",
              "         3.28718820e-01],\n",
              "       [ 3.42267156e-01, -2.43240172e-01,  4.05813230e-01,\n",
              "         3.92041651e-01],\n",
              "       [ 5.49654351e-01,  1.99472343e-03,  5.13035515e-01,\n",
              "         5.10482469e-01],\n",
              "       [ 6.24409098e-01, -4.06775149e-01,  7.27278820e-01,\n",
              "         7.03997273e-01],\n",
              "       [ 8.31931773e-01, -5.33574071e-02,  7.96418742e-01,\n",
              "         7.89745497e-01],\n",
              "       [ 2.62347741e-01, -3.82019136e-01,  3.80130939e-01,\n",
              "         3.59830089e-01],\n",
              "       [-4.18318116e-01, -9.66057995e-01, -4.97842289e-02,\n",
              "        -9.59013094e-02],\n",
              "       [-5.18668134e-01, -1.47919971e+00,  3.76586134e-02,\n",
              "        -3.35425066e-02],\n",
              "       [-5.78427906e-01, -1.45998162e+00, -2.49840852e-02,\n",
              "        -9.49392463e-02],\n",
              "       [-1.65605310e-01, -7.80315911e-01,  1.20814305e-01,\n",
              "         8.27326864e-02],\n",
              "       [ 3.14855570e-01, -8.67773001e-01,  6.00770835e-01,\n",
              "         5.56012961e-01],\n",
              "       [ 1.10972498e-02, -3.18251685e-01,  1.22775150e-01,\n",
              "         1.06864084e-01],\n",
              "       [ 5.43934448e-01,  6.77765312e-01,  2.69014614e-01,\n",
              "         3.00160766e-01],\n",
              "       [ 7.42607386e-01,  2.06954904e-01,  6.20991351e-01,\n",
              "         6.27719725e-01],\n",
              "       [ 2.26725368e-02, -1.56161002e+00,  5.72734589e-01,\n",
              "         4.94814896e-01],\n",
              "       [-4.41283932e-02, -2.14455084e-01,  3.44981241e-02,\n",
              "         2.40254267e-02],\n",
              "       [-3.51240646e-01, -1.30335430e+00,  1.32039753e-01,\n",
              "         6.87925302e-02],\n",
              "       [-2.74528526e-01, -1.10782715e+00,  1.34681479e-01,\n",
              "         8.08065945e-02],\n",
              "       [ 3.35781233e-01, -1.38622762e-01,  3.62801378e-01,\n",
              "         3.54273866e-01],\n",
              "       [-1.95800465e-01, -1.00219203e+00,  1.70956299e-01,\n",
              "         1.21964978e-01],\n",
              "       [-9.46485705e-01, -1.76931364e+00, -2.59740383e-01,\n",
              "        -3.43332503e-01],\n",
              "       [-1.70139438e-01, -8.64894415e-01,  1.46448633e-01,\n",
              "         1.04174604e-01],\n",
              "       [-1.86028467e-02, -1.85340317e-01,  4.80728203e-02,\n",
              "         3.89276461e-02],\n",
              "       [-2.44638093e-02, -4.11245509e-01,  1.22382040e-01,\n",
              "         1.02008979e-01],\n",
              "       [ 2.42547677e-01, -2.93411557e-01,  3.30329386e-01,\n",
              "         3.14539130e-01],\n",
              "       [-8.11901462e-01, -1.30450479e+00, -2.98115223e-01,\n",
              "        -3.59196786e-01],\n",
              "       [-9.00845435e-02, -6.17932605e-01,  1.34048561e-01,\n",
              "         1.03693572e-01],\n",
              "       [ 1.28972040e+00,  3.20210847e-01,  1.09235534e+00,\n",
              "         1.10208674e+00],\n",
              "       [ 3.41277038e-01, -9.52815143e-01,  6.55501877e-01,\n",
              "         6.06379111e-01],\n",
              "       [ 1.35897376e+00, -6.78595785e-02,  1.29414591e+00,\n",
              "         1.28420674e+00],\n",
              "       [ 7.32908589e-01, -4.25172436e-01,  8.35186692e-01,\n",
              "         8.10464884e-01],\n",
              "       [ 1.08414952e+00, -2.22402809e-01,  1.09186160e+00,\n",
              "         1.07554822e+00],\n",
              "       [ 1.73226199e+00,  4.40730778e-03,  1.61751967e+00,\n",
              "         1.60937999e+00],\n",
              "       [-3.93647207e-01, -1.53833535e+00,  1.75396752e-01,\n",
              "         1.00645776e-01],\n",
              "       [ 1.35549551e+00, -2.27477087e-01,  1.34727007e+00,\n",
              "         1.32939443e+00],\n",
              "       [ 7.76141346e-01, -1.19714511e+00,  1.14824688e+00,\n",
              "         1.08485139e+00],\n",
              "       [ 1.89989468e+00,  1.18123239e+00,  1.35855760e+00,\n",
              "         1.40824661e+00],\n",
              "       [ 9.71881920e-01,  2.82569153e-01,  8.08579006e-01,\n",
              "         8.17968611e-01],\n",
              "       [ 6.75861053e-01, -8.17490010e-01,  9.20428882e-01,\n",
              "         8.76434372e-01],\n",
              "       [ 1.13854339e+00, -1.12738613e-01,  1.10396919e+00,\n",
              "         1.09285757e+00],\n",
              "       [ 2.19935602e-01, -1.41049312e+00,  7.03735696e-01,\n",
              "         6.32393777e-01],\n",
              "       [ 5.99419894e-01, -7.96651466e-01,  8.41622431e-01,\n",
              "         7.99035120e-01],\n",
              "       [ 1.08358871e+00,  2.07423681e-01,  9.39527443e-01,\n",
              "         9.44633720e-01],\n",
              "       [ 8.62823223e-01, -1.53124933e-01,  8.60528542e-01,\n",
              "         8.48735113e-01],\n",
              "       [ 2.22514506e+00,  1.72452776e+00,  1.47067023e+00,\n",
              "         1.54586045e+00],\n",
              "       [ 1.72772228e+00, -8.73664131e-01,  1.92340176e+00,\n",
              "         1.87153235e+00],\n",
              "       [ 1.55560742e-02, -1.91996294e+00,  6.92649424e-01,\n",
              "         5.96908434e-01],\n",
              "       [ 1.40373856e+00,  3.02474100e-01,  1.20518800e+00,\n",
              "         1.21348542e+00],\n",
              "       [ 2.96086907e-01, -7.85139486e-01,  5.54043265e-01,\n",
              "         5.13493339e-01],\n",
              "       [ 1.66197164e+00, -3.95041138e-01,  1.69290288e+00,\n",
              "         1.66519910e+00],\n",
              "       [ 5.13103174e-01, -8.00574073e-01,  7.62331052e-01,\n",
              "         7.19964824e-01],\n",
              "       [ 1.26783306e+00,  4.89831493e-01,  1.01198997e+00,\n",
              "         1.03027868e+00],\n",
              "       [ 1.39622124e+00,  4.13065574e-01,  1.15910216e+00,\n",
              "         1.17294630e+00],\n",
              "       [ 4.93438590e-01, -6.03783648e-01,  6.74447136e-01,\n",
              "         6.41981272e-01],\n",
              "       [ 5.57107530e-01, -2.07900638e-01,  5.94134436e-01,\n",
              "         5.81086975e-01],\n",
              "       [ 8.61001330e-01, -6.49239107e-01,  1.03404776e+00,\n",
              "         9.97543258e-01],\n",
              "       [ 1.18088580e+00,  2.29385540e-02,  1.09562528e+00,\n",
              "         1.09106970e+00],\n",
              "       [ 1.36406871e+00, -4.13107565e-01,  1.42084574e+00,\n",
              "         1.39367933e+00],\n",
              "       [ 2.18763220e+00,  1.82072985e+00,  1.40163094e+00,\n",
              "         1.48179564e+00],\n",
              "       [ 9.03048313e-01, -6.60862693e-01,  1.07745272e+00,\n",
              "         1.04016615e+00],\n",
              "       [ 4.70295751e-01, -5.66610730e-01,  6.39687381e-01,\n",
              "         6.09185409e-01],\n",
              "       [ 3.21277347e-01, -1.07169430e+00,  6.78795772e-01,\n",
              "         6.23846130e-01],\n",
              "       [ 1.77765174e+00,  4.42183837e-02,  1.64588284e+00,\n",
              "         1.63950779e+00],\n",
              "       [ 1.22473021e+00,  5.76494083e-01,  9.41095178e-01,\n",
              "         9.63910013e-01],\n",
              "       [ 8.60871429e-01,  3.60709811e-02,  7.91882363e-01,\n",
              "         7.89525410e-01],\n",
              "       [ 4.89535001e-01, -2.25391819e-01,  5.37154778e-01,\n",
              "         5.23561866e-01],\n",
              "       [ 1.21859828e+00,  1.34223198e-01,  1.09156912e+00,\n",
              "         1.09237653e+00],\n",
              "       [ 1.28044533e+00,  3.39920333e-02,  1.18477564e+00,\n",
              "         1.18029038e+00],\n",
              "       [ 1.24955388e+00,  1.33759559e-01,  1.12066584e+00,\n",
              "         1.12130077e+00],\n",
              "       [ 3.41277038e-01, -9.52815143e-01,  6.55501877e-01,\n",
              "         6.06379111e-01],\n",
              "       [ 1.38930440e+00,  2.62199386e-01,  1.20592155e+00,\n",
              "         1.21228186e+00],\n",
              "       [ 1.43602099e+00,  4.43337150e-01,  1.18560982e+00,\n",
              "         1.20077024e+00],\n",
              "       [ 1.11963925e+00, -1.38287944e-01,  1.09532399e+00,\n",
              "         1.08303054e+00],\n",
              "       [ 4.77047056e-01, -1.24835538e+00,  8.86782266e-01,\n",
              "         8.22278449e-01],\n",
              "       [ 8.93778820e-01, -1.53588572e-01,  8.89625257e-01,\n",
              "         8.77659346e-01],\n",
              "       [ 1.09739791e+00,  5.78220998e-01,  8.21472821e-01,\n",
              "         8.44988164e-01],\n",
              "       [ 4.92813630e-01, -2.73261045e-01,  5.57126065e-01,\n",
              "         5.41132153e-01]])"
            ]
          },
          "metadata": {
            "tags": []
          },
          "execution_count": 12
        }
      ]
    },
    {
      "cell_type": "code",
      "metadata": {
        "id": "UbxpwLxiRUoi",
        "colab_type": "code",
        "colab": {}
      },
      "source": [
        "loss = ((X_std - rev) ** 2).mean()"
      ],
      "execution_count": 0,
      "outputs": []
    },
    {
      "cell_type": "code",
      "metadata": {
        "id": "Q6p64P-vRXmG",
        "colab_type": "code",
        "colab": {
          "base_uri": "https://localhost:8080/",
          "height": 34
        },
        "outputId": "2c7f480b-f4b6-48ce-e072-3563a28147df"
      },
      "source": [
        "loss"
      ],
      "execution_count": 14,
      "outputs": [
        {
          "output_type": "execute_result",
          "data": {
            "text/plain": [
              "0.04199024638518027"
            ]
          },
          "metadata": {
            "tags": []
          },
          "execution_count": 14
        }
      ]
    }
  ]
}