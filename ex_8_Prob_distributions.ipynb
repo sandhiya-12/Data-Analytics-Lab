{
  "nbformat": 4,
  "nbformat_minor": 0,
  "metadata": {
    "colab": {
      "name": "ex-8_Prob_distributions.ipynb",
      "version": "0.3.2",
      "provenance": []
    },
    "kernelspec": {
      "name": "python3",
      "display_name": "Python 3"
    }
  },
  "cells": [
    {
      "cell_type": "code",
      "metadata": {
        "id": "h0GsdVlpSygO",
        "colab_type": "code",
        "colab": {
          "base_uri": "https://localhost:8080/",
          "height": 286
        },
        "outputId": "1c440c94-7ede-4b99-af48-c640557921f5"
      },
      "source": [
        "#NORMAL DISTRIBUTION\n",
        "import numpy as np \n",
        "import matplotlib.pyplot as plt\n",
        "\n",
        "values= np.random.normal(100,15, 10000)\n",
        "print(values.shape)\n",
        "plt.hist(values,100,density=True)\n",
        "plt.show()"
      ],
      "execution_count": 1,
      "outputs": [
        {
          "output_type": "stream",
          "text": [
            "(10000,)\n"
          ],
          "name": "stdout"
        },
        {
          "output_type": "display_data",
          "data": {
            "image/png": "[encoded data removed]",
            "text/plain": [
              "<Figure size 432x288 with 1 Axes>"
            ]
          },
          "metadata": {
            "tags": []
          }
        }
      ]
    },
    {
      "cell_type": "code",
      "metadata": {
        "id": "ZlgkulxDS6Ui",
        "colab_type": "code",
        "colab": {
          "base_uri": "https://localhost:8080/",
          "height": 269
        },
        "outputId": "e0203c42-74be-4eb1-ecd3-1abadfc35e2c"
      },
      "source": [
        "#UNIFORM DISTRIBUTION\n",
        "s = np.random.uniform(-5,10,1000)\n",
        "count, bins, ignored = plt.hist(s, 60,density=True)\n",
        "plt.show()"
      ],
      "execution_count": 2,
      "outputs": [
        {
          "output_type": "display_data",
          "data": {
            "image/png": "[encoded data removed]",
            "text/plain": [
              "<Figure size 432x288 with 1 Axes>"
            ]
          },
          "metadata": {
            "tags": []
          }
        }
      ]
    },
    {
      "cell_type": "code",
      "metadata": {
        "id": "V76T81UZTO6P",
        "colab_type": "code",
        "colab": {
          "base_uri": "https://localhost:8080/",
          "height": 269
        },
        "outputId": "39a066d8-22a1-45e8-9917-9896a676aa4b"
      },
      "source": [
        "#POISSON DISTRIBUTION\n",
        "pois = np.random.poisson(7.4, 10000)\n",
        "plt.hist(pois, 10,density=True)\n",
        "plt.show()"
      ],
      "execution_count": 3,
      "outputs": [
        {
          "output_type": "display_data",
          "data": {
            "image/png": "[encoded data removed]",
            "text/plain": [
              "<Figure size 432x288 with 1 Axes>"
            ]
          },
          "metadata": {
            "tags": []
          }
        }
      ]
    },
    {
      "cell_type": "code",
      "metadata": {
        "id": "Sou2NYOSTTU5",
        "colab_type": "code",
        "colab": {
          "base_uri": "https://localhost:8080/",
          "height": 269
        },
        "outputId": "f485df35-8ca0-4d62-ff70-35b21aca3b41"
      },
      "source": [
        "#BINOMIAL DISTRIBUTION\n",
        "n=100\n",
        "p=0.1667\n",
        "binom = np.random.binomial(n, p, 10000)\n",
        "plt.hist(binom,20,density=True)\n",
        "plt.show()"
      ],
      "execution_count": 4,
      "outputs": [
        {
          "output_type": "display_data",
          "data": {
            "image/png": "[encoded data removed]",
            "text/plain": [
              "<Figure size 432x288 with 1 Axes>"
            ]
          },
          "metadata": {
            "tags": []
          }
        }
      ]
    },
    {
      "cell_type": "code",
      "metadata": {
        "id": "P6Sv4JQGTZnC",
        "colab_type": "code",
        "colab": {
          "base_uri": "https://localhost:8080/",
          "height": 269
        },
        "outputId": "b9d6e0e7-20f2-4cb4-e3e6-4c79ef7bf8fa"
      },
      "source": [
        "#EXPONENTIAL DISTRIBUTION\n",
        "target = 250\n",
        "beta = 1.0/target\n",
        "Y = np.random.exponential(beta, 5000)\n",
        "plt.hist(Y, bins=200,lw=0,alpha=.8)\n",
        "plt.plot([0,max(Y)],[target,target],'r--')\n",
        "plt.ylim(0,target*1.1)\n",
        "plt.show()"
      ],
      "execution_count": 5,
      "outputs": [
        {
          "output_type": "display_data",
          "data": {
            "image/png": "[encoded data removed]",
            "text/plain": [
              "<Figure size 432x288 with 1 Axes>"
            ]
          },
          "metadata": {
            "tags": []
          }
        }
      ]
    },
    {
      "cell_type": "code",
      "metadata": {
        "id": "-P9HDCreTdyi",
        "colab_type": "code",
        "colab": {
          "base_uri": "https://localhost:8080/",
          "height": 269
        },
        "outputId": "9ec6ad70-5253-40a7-c74a-917fe000fe49"
      },
      "source": [
        "#RANDOM DISTRIBUTION\n",
        "ran=np.random.choice(range(5000,10000),100)\n",
        "ran\n",
        "plt.hist(ran,5)\n",
        "plt.show()"
      ],
      "execution_count": 6,
      "outputs": [
        {
          "output_type": "display_data",
          "data": {
            "image/png": "[encoded data removed]",
            "text/plain": [
              "<Figure size 432x288 with 1 Axes>"
            ]
          },
          "metadata": {
            "tags": []
          }
        }
      ]
    }
  ]
}