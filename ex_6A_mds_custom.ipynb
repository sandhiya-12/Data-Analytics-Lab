{
  "nbformat": 4,
  "nbformat_minor": 0,
  "metadata": {
    "colab": {
      "name": "ex-6A mds_custom.ipynb",
      "version": "0.3.2",
      "provenance": []
    },
    "kernelspec": {
      "name": "python3",
      "display_name": "Python 3"
    }
  },
  "cells": [
    {
      "cell_type": "code",
      "metadata": {
        "id": "XnTtZxA6Hs7M",
        "colab_type": "code",
        "colab": {}
      },
      "source": [
        "X = [[1,1],[2,1],[2,2],[3,2]]\n"
      ],
      "execution_count": 0,
      "outputs": []
    },
    {
      "cell_type": "code",
      "metadata": {
        "id": "mhAW0IaEIGnd",
        "colab_type": "code",
        "colab": {
          "base_uri": "https://localhost:8080/",
          "height": 295
        },
        "outputId": "5a0e17da-be12-4f09-92d1-ebf1b40980da"
      },
      "source": [
        "\n",
        "X\n",
        "\n",
        "import numpy as np\n",
        "X=np.array(X)\n",
        "\n",
        "import matplotlib.pyplot as plt\n",
        "plt.scatter(X[:,0], X[:,1])\n",
        "plt.title('Dataset')\n",
        "plt.xlabel('X')\n",
        "plt.ylabel('Y')\n",
        "plt.show()"
      ],
      "execution_count": 2,
      "outputs": [
        {
          "output_type": "display_data",
          "data": {
            "image/png": "[encoded data removed]",
            "text/plain": [
              "<Figure size 432x288 with 1 Axes>"
            ]
          },
          "metadata": {
            "tags": []
          }
        }
      ]
    },
    {
      "cell_type": "code",
      "metadata": {
        "id": "SXwCy7pmIIE2",
        "colab_type": "code",
        "colab": {}
      },
      "source": [
        "import copy\n",
        "Xmean = np.mean(X[:,0])\n",
        "Ymean = np.mean(X[:,1])\n",
        "\n",
        "msubX = X[:,0] - Xmean\n",
        "\n",
        "msubY = X[:,1] - Ymean"
      ],
      "execution_count": 0,
      "outputs": []
    },
    {
      "cell_type": "code",
      "metadata": {
        "id": "ipR4J859IOFr",
        "colab_type": "code",
        "colab": {
          "base_uri": "https://localhost:8080/",
          "height": 85
        },
        "outputId": "dd96c446-86be-4c7f-f4fd-0e5cab869474"
      },
      "source": [
        "msubData = np.column_stack((msubX,msubY))\n",
        "\n",
        "msubData"
      ],
      "execution_count": 4,
      "outputs": [
        {
          "output_type": "execute_result",
          "data": {
            "text/plain": [
              "array([[-1. , -0.5],\n",
              "       [ 0. , -0.5],\n",
              "       [ 0. ,  0.5],\n",
              "       [ 1. ,  0.5]])"
            ]
          },
          "metadata": {
            "tags": []
          },
          "execution_count": 4
        }
      ]
    },
    {
      "cell_type": "code",
      "metadata": {
        "id": "RAg4BsMHIRGN",
        "colab_type": "code",
        "colab": {
          "base_uri": "https://localhost:8080/",
          "height": 296
        },
        "outputId": "8178dbbf-fb87-4769-9b57-9d6d3c4b82d7"
      },
      "source": [
        "plt.scatter(msubData[:,0], msubData[:,1])\n",
        "plt.title('Mean SubtractedDataset')\n",
        "plt.xlabel('X - X_Mean')\n",
        "plt.ylabel('Y - Y_Mean')\n",
        "plt.show()\n"
      ],
      "execution_count": 5,
      "outputs": [
        {
          "output_type": "display_data",
          "data": {
            "image/png": "[encoded data removed]",
            "text/plain": [
              "<Figure size 432x288 with 1 Axes>"
            ]
          },
          "metadata": {
            "tags": []
          }
        }
      ]
    },
    {
      "cell_type": "code",
      "metadata": {
        "id": "Gb8VjTuTIVK5",
        "colab_type": "code",
        "colab": {
          "base_uri": "https://localhost:8080/",
          "height": 34
        },
        "outputId": "040a2c50-8b7a-431e-ffef-a2f23b64fd31"
      },
      "source": [
        "VarX = 0\n",
        "\n",
        "for ele in msubData[:,0]:\n",
        "    VarX = VarX + ele*ele\n",
        "    \n",
        "VarX = VarX/3\n",
        "\n",
        "VarX"
      ],
      "execution_count": 6,
      "outputs": [
        {
          "output_type": "execute_result",
          "data": {
            "text/plain": [
              "0.6666666666666666"
            ]
          },
          "metadata": {
            "tags": []
          },
          "execution_count": 6
        }
      ]
    },
    {
      "cell_type": "code",
      "metadata": {
        "id": "OsY3TfXpIZWD",
        "colab_type": "code",
        "colab": {
          "base_uri": "https://localhost:8080/",
          "height": 34
        },
        "outputId": "15c12efb-7f52-4b61-b6f8-a2aa46eea558"
      },
      "source": [
        "VarY = 0 \n",
        "\n",
        "for ele in msubData[:,1]:\n",
        "    VarY = VarY + ele*ele\n",
        "\n",
        "VarY = VarY/3\n",
        "\n",
        "VarY"
      ],
      "execution_count": 7,
      "outputs": [
        {
          "output_type": "execute_result",
          "data": {
            "text/plain": [
              "0.3333333333333333"
            ]
          },
          "metadata": {
            "tags": []
          },
          "execution_count": 7
        }
      ]
    },
    {
      "cell_type": "code",
      "metadata": {
        "id": "8PK0Ee1DIo3f",
        "colab_type": "code",
        "colab": {
          "base_uri": "https://localhost:8080/",
          "height": 34
        },
        "outputId": "57cbf0dd-e211-4d96-819e-db269bf81456"
      },
      "source": [
        "VarXY = 0\n",
        "for ele,ele1 in msubData[:]:\n",
        "    \n",
        "    VarXY = VarXY + ele*ele1\n",
        "    \n",
        "VarXY = VarXY/3\n",
        "\n",
        "VarXY"
      ],
      "execution_count": 8,
      "outputs": [
        {
          "output_type": "execute_result",
          "data": {
            "text/plain": [
              "0.3333333333333333"
            ]
          },
          "metadata": {
            "tags": []
          },
          "execution_count": 8
        }
      ]
    },
    {
      "cell_type": "code",
      "metadata": {
        "id": "uNHFpm57IsJj",
        "colab_type": "code",
        "colab": {
          "base_uri": "https://localhost:8080/",
          "height": 51
        },
        "outputId": "4361036f-c32b-405a-fa82-2514033fbbe4"
      },
      "source": [
        "Cmat = np.column_stack(([VarX,VarXY],[VarXY,VarY]))\n",
        "\n",
        "Cmat"
      ],
      "execution_count": 9,
      "outputs": [
        {
          "output_type": "execute_result",
          "data": {
            "text/plain": [
              "array([[0.66666667, 0.33333333],\n",
              "       [0.33333333, 0.33333333]])"
            ]
          },
          "metadata": {
            "tags": []
          },
          "execution_count": 9
        }
      ]
    },
    {
      "cell_type": "code",
      "metadata": {
        "id": "kQ8PiS5lIuzS",
        "colab_type": "code",
        "colab": {
          "base_uri": "https://localhost:8080/",
          "height": 85
        },
        "outputId": "3bf2ab8a-153a-4757-8424-f8de9fd925a6"
      },
      "source": [
        "Cmatprod = np.dot(msubData,msubData.T)\n",
        "\n",
        "Cmatprod"
      ],
      "execution_count": 10,
      "outputs": [
        {
          "output_type": "execute_result",
          "data": {
            "text/plain": [
              "array([[ 1.25,  0.25, -0.25, -1.25],\n",
              "       [ 0.25,  0.25, -0.25, -0.25],\n",
              "       [-0.25, -0.25,  0.25,  0.25],\n",
              "       [-1.25, -0.25,  0.25,  1.25]])"
            ]
          },
          "metadata": {
            "tags": []
          },
          "execution_count": 10
        }
      ]
    },
    {
      "cell_type": "code",
      "metadata": {
        "id": "3JG_dEv4Iyde",
        "colab_type": "code",
        "colab": {
          "base_uri": "https://localhost:8080/",
          "height": 102
        },
        "outputId": "a3d5fc84-8bee-4663-a3ff-b92207653e9f"
      },
      "source": [
        "eigenval, eigenvec = np.linalg.eig(Cmatprod)\n",
        "\n",
        "print(eigenval)\n",
        "\n",
        "print(eigenvec)"
      ],
      "execution_count": 11,
      "outputs": [
        {
          "output_type": "stream",
          "text": [
            "[ 2.61803399e+00  3.81966011e-01 -9.45799730e-17 -2.55373581e-17]\n",
            "[[-0.68819096  0.16245985  0.67618941  0.02708022]\n",
            " [-0.16245985 -0.68819096  0.20680399  0.70658804]\n",
            " [ 0.16245985  0.68819096  0.20680399  0.70658804]\n",
            " [ 0.68819096 -0.16245985  0.67618941  0.02708022]]\n"
          ],
          "name": "stdout"
        }
      ]
    },
    {
      "cell_type": "code",
      "metadata": {
        "id": "6Zo68AKHI14y",
        "colab_type": "code",
        "colab": {
          "base_uri": "https://localhost:8080/",
          "height": 85
        },
        "outputId": "67f6f39d-f857-4591-ba83-9c36c9219132"
      },
      "source": [
        "evec=eigenvec[:,[0]]\n",
        "print(evec)"
      ],
      "execution_count": 12,
      "outputs": [
        {
          "output_type": "stream",
          "text": [
            "[[-0.68819096]\n",
            " [-0.16245985]\n",
            " [ 0.16245985]\n",
            " [ 0.68819096]]\n"
          ],
          "name": "stdout"
        }
      ]
    },
    {
      "cell_type": "code",
      "metadata": {
        "id": "7IImpfx8I4d6",
        "colab_type": "code",
        "colab": {
          "base_uri": "https://localhost:8080/",
          "height": 34
        },
        "outputId": "bceddf72-7ef4-4ffa-f654-c54dbd3d2611"
      },
      "source": [
        "e_val=eigenval[0]\n",
        "print(e_val)"
      ],
      "execution_count": 13,
      "outputs": [
        {
          "output_type": "stream",
          "text": [
            "2.6180339887498945\n"
          ],
          "name": "stdout"
        }
      ]
    },
    {
      "cell_type": "code",
      "metadata": {
        "id": "Xc2_G7YDI5z_",
        "colab_type": "code",
        "colab": {
          "base_uri": "https://localhost:8080/",
          "height": 85
        },
        "outputId": "5adfb3ff-0002-47f6-c3da-9543275300d0"
      },
      "source": [
        "import math\n",
        "mdsproj=math.sqrt(e_val)*evec\n",
        "print(mdsproj)"
      ],
      "execution_count": 14,
      "outputs": [
        {
          "output_type": "stream",
          "text": [
            "[[-1.11351636]\n",
            " [-0.26286556]\n",
            " [ 0.26286556]\n",
            " [ 1.11351636]]\n"
          ],
          "name": "stdout"
        }
      ]
    },
    {
      "cell_type": "code",
      "metadata": {
        "id": "XZvgLNDjI8Wi",
        "colab_type": "code",
        "colab": {
          "base_uri": "https://localhost:8080/",
          "height": 85
        },
        "outputId": "815e503d-c7fc-4e1b-a135-9d02817fca7c"
      },
      "source": [
        "from sklearn.metrics.pairwise import euclidean_distances\n",
        "euc_dis_original=euclidean_distances(msubData, msubData)\n",
        "print(euc_dis_original)"
      ],
      "execution_count": 15,
      "outputs": [
        {
          "output_type": "stream",
          "text": [
            "[[0.         1.         1.41421356 2.23606798]\n",
            " [1.         0.         1.         1.41421356]\n",
            " [1.41421356 1.         0.         1.        ]\n",
            " [2.23606798 1.41421356 1.         0.        ]]\n"
          ],
          "name": "stdout"
        }
      ]
    },
    {
      "cell_type": "code",
      "metadata": {
        "id": "nCEv3i8WJAeO",
        "colab_type": "code",
        "colab": {
          "base_uri": "https://localhost:8080/",
          "height": 85
        },
        "outputId": "4aa6a10a-98ad-4ea6-b9b6-74421e22c7bd"
      },
      "source": [
        "euc_dismod=euclidean_distances(mdsproj, mdsproj)\n",
        "print(euc_dismod)"
      ],
      "execution_count": 16,
      "outputs": [
        {
          "output_type": "stream",
          "text": [
            "[[0.         0.85065081 1.37638192 2.22703273]\n",
            " [0.85065081 0.         0.52573111 1.37638192]\n",
            " [1.37638192 0.52573111 0.         0.85065081]\n",
            " [2.22703273 1.37638192 0.85065081 0.        ]]\n"
          ],
          "name": "stdout"
        }
      ]
    },
    {
      "cell_type": "code",
      "metadata": {
        "id": "b5YDHGoJJHeW",
        "colab_type": "code",
        "colab": {
          "base_uri": "https://localhost:8080/",
          "height": 269
        },
        "outputId": "b55308ef-f8f1-42ef-f0ce-20572d35b5cb"
      },
      "source": [
        "plt.scatter(euc_dis_original, euc_dismod)\n",
        "plt.show()"
      ],
      "execution_count": 17,
      "outputs": [
        {
          "output_type": "display_data",
          "data": {
            "image/png": "[encoded data removed]",
            "text/plain": [
              "<Figure size 432x288 with 1 Axes>"
            ]
          },
          "metadata": {
            "tags": []
          }
        }
      ]
    },
    {
      "cell_type": "code",
      "metadata": {
        "id": "ynM1JKhWJL8q",
        "colab_type": "code",
        "colab": {
          "base_uri": "https://localhost:8080/",
          "height": 269
        },
        "outputId": "5d717a45-91d5-4efc-c857-df80777e8c81"
      },
      "source": [
        "plt.plot(euc_dis_original, euc_dismod)\n",
        "plt.show()"
      ],
      "execution_count": 19,
      "outputs": [
        {
          "output_type": "display_data",
          "data": {
            "image/png": "[encoded data removed]",
            "text/plain": [
              "<Figure size 432x288 with 1 Axes>"
            ]
          },
          "metadata": {
            "tags": []
          }
        }
      ]
    },
    {
      "cell_type": "code",
      "metadata": {
        "id": "fo69O0IIJStB",
        "colab_type": "code",
        "colab": {
          "base_uri": "https://localhost:8080/",
          "height": 85
        },
        "outputId": "693087b2-1820-4398-aaab-4072b5b616f0"
      },
      "source": [
        "print(euc_dis_original-euc_dismod)"
      ],
      "execution_count": 20,
      "outputs": [
        {
          "output_type": "stream",
          "text": [
            "[[0.         0.14934919 0.03783164 0.00903525]\n",
            " [0.14934919 0.         0.47426889 0.03783164]\n",
            " [0.03783164 0.47426889 0.         0.14934919]\n",
            " [0.00903525 0.03783164 0.14934919 0.        ]]\n"
          ],
          "name": "stdout"
        }
      ]
    }
  ]
}