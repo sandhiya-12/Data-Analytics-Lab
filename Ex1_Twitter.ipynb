{
  "nbformat": 4,
  "nbformat_minor": 0,
  "metadata": {
    "kernelspec": {
      "display_name": "Python 3",
      "language": "python",
      "name": "python3"
    },
    "language_info": {
      "codemirror_mode": {
        "name": "ipython",
        "version": 3
      },
      "file_extension": ".py",
      "mimetype": "text/x-python",
      "name": "python",
      "nbconvert_exporter": "python",
      "pygments_lexer": "ipython3",
      "version": "3.6.5"
    },
    "colab": {
      "name": "Ex1 Twitter.ipynb",
      "version": "0.3.2",
      "provenance": [],
      "collapsed_sections": []
    }
  },
  "cells": [
    {
      "cell_type": "code",
      "metadata": {
        "id": "qBn3XH8va0VS",
        "colab_type": "code",
        "colab": {},
        "outputId": "c64208ca-8f1a-4e45-9a7a-83ae0c62884f"
      },
      "source": [
        "import tweepy\n",
        "dir(tweepy)"
      ],
      "execution_count": 0,
      "outputs": [
        {
          "output_type": "execute_result",
          "data": {
            "text/plain": [
              "['API',\n",
              " 'AppAuthHandler',\n",
              " 'Cache',\n",
              " 'Category',\n",
              " 'Cursor',\n",
              " 'DirectMessage',\n",
              " 'FileCache',\n",
              " 'Friendship',\n",
              " 'MemoryCache',\n",
              " 'ModelFactory',\n",
              " 'OAuthHandler',\n",
              " 'RateLimitError',\n",
              " 'SavedSearch',\n",
              " 'SearchResults',\n",
              " 'Status',\n",
              " 'Stream',\n",
              " 'StreamListener',\n",
              " 'TweepError',\n",
              " 'User',\n",
              " '__author__',\n",
              " '__builtins__',\n",
              " '__cached__',\n",
              " '__doc__',\n",
              " '__file__',\n",
              " '__license__',\n",
              " '__loader__',\n",
              " '__name__',\n",
              " '__package__',\n",
              " '__path__',\n",
              " '__spec__',\n",
              " '__version__',\n",
              " 'api',\n",
              " 'auth',\n",
              " 'binder',\n",
              " 'cache',\n",
              " 'cursor',\n",
              " 'debug',\n",
              " 'error',\n",
              " 'models',\n",
              " 'parsers',\n",
              " 'streaming',\n",
              " 'utils']"
            ]
          },
          "metadata": {
            "tags": []
          },
          "execution_count": 1
        }
      ]
    },
    {
      "cell_type": "code",
      "metadata": {
        "id": "O8stNspCa0VZ",
        "colab_type": "code",
        "colab": {}
      },
      "source": [
        "consumer_key = \"kBK7oe3CmRjgn4iCEiG85SNrq\"\n",
        "consumer_secret = \"tobFMCxuYNwFKqjftonrR44Gylw2yDaTF6jnJqYp54GJm7pakU\"\n",
        "access_token = \"730018831519776769-qS654gIOTlMOD1PQjppxr8QqLlwzyEo\"\n",
        "access_token_secret = \"wVUtR0iHmE7ifVrtuFOoZBEVUZWGHnUgI60hqeI9VLe4Z\""
      ],
      "execution_count": 0,
      "outputs": []
    },
    {
      "cell_type": "code",
      "metadata": {
        "id": "rCYoHZGZa0Vc",
        "colab_type": "code",
        "colab": {}
      },
      "source": [
        "# Creating the authentication object\n",
        "auth = tweepy.OAuthHandler(consumer_key, consumer_secret)\n",
        "# Setting your access token and secret\n",
        "auth.set_access_token(access_token, access_token_secret)\n",
        "# Creating the API object while passing in auth information\n",
        "api = tweepy.API(auth) "
      ],
      "execution_count": 0,
      "outputs": []
    },
    {
      "cell_type": "code",
      "metadata": {
        "id": "lMZj5PsWa0Vg",
        "colab_type": "code",
        "colab": {
          "base_uri": "https://localhost:8080/",
          "height": 428
        },
        "outputId": "642250fc-445b-4282-d84a-a0023dcf7abc"
      },
      "source": [
        "query=\"#sea\"\n",
        "language=\"en\"\n",
        "results=api.search(q=query,lang=language)\n",
        "for tweet in results:\n",
        "    print(tweet.user.screen_name,\"tweeted:\",tweet.text)"
      ],
      "execution_count": 9,
      "outputs": [
        {
          "output_type": "stream",
          "text": [
            "pacogallegotrue tweeted: RT @vincebal: Love on Shadow Beach ❤️ I’m taking a small break from posting stuff, see you in a couple of weeks ✌️ #shadowology #shadowart…\n",
            "supercarsfordad tweeted: The ML63 AMG looks great from every angle 🖤\n",
            "\n",
            "Hello @mercedesbenzuk @mercedesbenz @mercedesamg @f1mike28\n",
            "\n",
            "Photo… https://t.co/JSp2UE4onI\n",
            "noticias_buceo tweeted: RT @KhalidAlrazooqi: It is amazing to explore the underwater world.\n",
            "Thank you @PADI_Travel for organizing this amazing trip\n",
            "#diving #sea #u…\n",
            "Francymolly_80 tweeted: RT @ClaireMphilippe: Reposting @_gio___na_: - via @Crowdfire \n",
            "#tramonto #sunset #sky #sun #sea #mare #photooftheday #ig #summer #estate #pi…\n",
            "TSU_Gamers tweeted: RT @_MickyDee_: MickyDee is streaming Sea of Thieves on DLive! https://t.co/YFcnrf9SYk #Sea of Thieves #dlivefam #dlive @dliveunified @dliv…\n",
            "ChrisLaCoursie1 tweeted: @business #Fintech #AI #Ecommerce 500b market #Mcommerce #SEA #Indonesia largest #smartphone #Market on 🌏 day 1 tom… https://t.co/P1Rs7gO5JL\n",
            "patriziamiani tweeted: RT @hirasu21c: yesterday #dark #blue #sea https://t.co/xXZCYCWExx\n",
            "cheerfulmadness tweeted: Beachyhead, 45.5x35cm approx, acrylic on canvas. #cheerfulmadness #canvas #acrylic #acrylicpainting #sea… https://t.co/SJrUM8G5Pk\n",
            "boatmarinelife tweeted: RT @Multihullsmag2: The New Nautitech 46 - The French shipbuilder Nautitech take the opportunity of the 10-year anniversary of the Internat…\n",
            "mikemikey2012 tweeted: Trip down nansidewell, last day of holiday, back home tomorrow \n",
            "#beach #sea #sand #pebbles #rocks #cliffs #seagull… https://t.co/HRAnWPuzvO\n",
            "ampomata tweeted: RT @ampomata: This is my painting \"Aground On The Shore\". You can check it out here: https://t.co/JfWJUtAb3H #art #arte #artlovers #kunst #…\n",
            "paoloigna1 tweeted: RT @ampomata: This is my painting \"Aground On The Shore\". You can check it out here: https://t.co/JfWJUtAb3H #art #arte #artlovers #kunst #…\n",
            "ampomata tweeted: RT @ampomata: This is my painting \"Every Breaking Wave\". You can check it out here: https://t.co/UEbQaLmrYt #art #arte #artlovers #kunst #и…\n",
            "ampomata tweeted: RT @ampomata: This is my painting \"Estuary Cove\". You can check it out here: https://t.co/nCmKQ84nkk #art #arte #artlovers #kunst #искусств…\n",
            "ampomata tweeted: RT @ampomata: This is my painting \"A Walk Down To The Sea\". You can check it out here: https://t.co/BwkElpM6Is #art #arte #artlovers #kunst…\n"
          ],
          "name": "stdout"
        }
      ]
    },
    {
      "cell_type": "code",
      "metadata": {
        "id": "PFE9CQlwa0Vj",
        "colab_type": "code",
        "colab": {}
      },
      "source": [
        "import csv\n",
        "csvFile = open('result.csv', 'a')\n",
        "csvWriter = csv.writer(csvFile)"
      ],
      "execution_count": 0,
      "outputs": []
    },
    {
      "cell_type": "code",
      "metadata": {
        "id": "uFHQh20ua0Vm",
        "colab_type": "code",
        "colab": {}
      },
      "source": [
        "for tweet in tweepy.Cursor(api.search,\n",
        "                           q = \"cwc2019\",\n",
        "                           since = \"2019-05-14\",\n",
        "                           until = \"2019-06-15\",\n",
        "                           lang = \"en\").items():\n",
        "\n",
        "    # Write a row to the CSV file. I use encode UTF-8\n",
        "    csvWriter.writerow([tweet.created_at, tweet.text.encode('utf-8')])\n",
        "    print (tweet.created_at, tweet.text)\n",
        "csvFile.close()"
      ],
      "execution_count": 0,
      "outputs": []
    },
    {
      "cell_type": "code",
      "metadata": {
        "id": "pzCWZCX8a0Vr",
        "colab_type": "code",
        "colab": {}
      },
      "source": [
        ""
      ],
      "execution_count": 0,
      "outputs": []
    }
  ]
}